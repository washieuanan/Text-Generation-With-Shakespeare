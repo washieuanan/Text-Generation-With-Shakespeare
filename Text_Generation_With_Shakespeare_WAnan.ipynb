{
 "cells": [
  {
   "cell_type": "code",
   "execution_count": 1,
   "metadata": {},
   "outputs": [
    {
     "name": "stderr",
     "output_type": "stream",
     "text": [
      "Using TensorFlow backend.\n"
     ]
    }
   ],
   "source": [
    "import numpy as np \n",
    "import pandas as pd\n",
    "import matplotlib.pyplot as plt \n",
    "import string \n",
    "import os \n",
    "import warnings \n",
    "\n",
    "#ML \n",
    "import tensorflow as tf\n",
    "import keras.utils as ku\n",
    "from keras.preprocessing.sequence import pad_sequences\n",
    "from keras.preprocessing.text import Tokenizer\n",
    "from keras.models import Sequential\n",
    "from keras.layers import Dense, Embedding, LSTM, Dropout\n",
    "from keras.callbacks import ModelCheckpoint\n",
    "\n",
    "warnings.filterwarnings(\"ignore\")\n",
    "warnings.simplefilter(action=\"ignore\", category=FutureWarning)\n"
   ]
  },
  {
   "cell_type": "markdown",
   "metadata": {},
   "source": [
    "# Loading the Dataset"
   ]
  },
  {
   "cell_type": "code",
   "execution_count": 2,
   "metadata": {},
   "outputs": [],
   "source": [
    "df = pd.read_csv(\"Shakespeare_data.csv\") "
   ]
  },
  {
   "cell_type": "code",
   "execution_count": 3,
   "metadata": {},
   "outputs": [
    {
     "data": {
      "text/html": [
       "<div>\n",
       "<style scoped>\n",
       "    .dataframe tbody tr th:only-of-type {\n",
       "        vertical-align: middle;\n",
       "    }\n",
       "\n",
       "    .dataframe tbody tr th {\n",
       "        vertical-align: top;\n",
       "    }\n",
       "\n",
       "    .dataframe thead th {\n",
       "        text-align: right;\n",
       "    }\n",
       "</style>\n",
       "<table border=\"1\" class=\"dataframe\">\n",
       "  <thead>\n",
       "    <tr style=\"text-align: right;\">\n",
       "      <th></th>\n",
       "      <th>Dataline</th>\n",
       "      <th>Play</th>\n",
       "      <th>PlayerLinenumber</th>\n",
       "      <th>ActSceneLine</th>\n",
       "      <th>Player</th>\n",
       "      <th>PlayerLine</th>\n",
       "    </tr>\n",
       "  </thead>\n",
       "  <tbody>\n",
       "    <tr>\n",
       "      <th>0</th>\n",
       "      <td>1</td>\n",
       "      <td>Henry IV</td>\n",
       "      <td>NaN</td>\n",
       "      <td>NaN</td>\n",
       "      <td>NaN</td>\n",
       "      <td>ACT I</td>\n",
       "    </tr>\n",
       "    <tr>\n",
       "      <th>1</th>\n",
       "      <td>2</td>\n",
       "      <td>Henry IV</td>\n",
       "      <td>NaN</td>\n",
       "      <td>NaN</td>\n",
       "      <td>NaN</td>\n",
       "      <td>SCENE I. London. The palace.</td>\n",
       "    </tr>\n",
       "    <tr>\n",
       "      <th>2</th>\n",
       "      <td>3</td>\n",
       "      <td>Henry IV</td>\n",
       "      <td>NaN</td>\n",
       "      <td>NaN</td>\n",
       "      <td>NaN</td>\n",
       "      <td>Enter KING HENRY, LORD JOHN OF LANCASTER, the ...</td>\n",
       "    </tr>\n",
       "    <tr>\n",
       "      <th>3</th>\n",
       "      <td>4</td>\n",
       "      <td>Henry IV</td>\n",
       "      <td>1.0</td>\n",
       "      <td>1.1.1</td>\n",
       "      <td>KING HENRY IV</td>\n",
       "      <td>So shaken as we are, so wan with care,</td>\n",
       "    </tr>\n",
       "    <tr>\n",
       "      <th>4</th>\n",
       "      <td>5</td>\n",
       "      <td>Henry IV</td>\n",
       "      <td>1.0</td>\n",
       "      <td>1.1.2</td>\n",
       "      <td>KING HENRY IV</td>\n",
       "      <td>Find we a time for frighted peace to pant,</td>\n",
       "    </tr>\n",
       "  </tbody>\n",
       "</table>\n",
       "</div>"
      ],
      "text/plain": [
       "   Dataline      Play  PlayerLinenumber ActSceneLine         Player  \\\n",
       "0         1  Henry IV               NaN          NaN            NaN   \n",
       "1         2  Henry IV               NaN          NaN            NaN   \n",
       "2         3  Henry IV               NaN          NaN            NaN   \n",
       "3         4  Henry IV               1.0        1.1.1  KING HENRY IV   \n",
       "4         5  Henry IV               1.0        1.1.2  KING HENRY IV   \n",
       "\n",
       "                                          PlayerLine  \n",
       "0                                              ACT I  \n",
       "1                       SCENE I. London. The palace.  \n",
       "2  Enter KING HENRY, LORD JOHN OF LANCASTER, the ...  \n",
       "3             So shaken as we are, so wan with care,  \n",
       "4         Find we a time for frighted peace to pant,  "
      ]
     },
     "execution_count": 3,
     "metadata": {},
     "output_type": "execute_result"
    }
   ],
   "source": [
    "df.head()"
   ]
  },
  {
   "cell_type": "code",
   "execution_count": 4,
   "metadata": {},
   "outputs": [
    {
     "name": "stdout",
     "output_type": "stream",
     "text": [
      "111396\n"
     ]
    }
   ],
   "source": [
    "lines_num = [lines for lines in df.PlayerLine]\n",
    "print(len(lines_num))"
   ]
  },
  {
   "cell_type": "markdown",
   "metadata": {},
   "source": [
    "# Data Preprocessing"
   ]
  },
  {
   "cell_type": "code",
   "execution_count": 5,
   "metadata": {},
   "outputs": [],
   "source": [
    "def text_cleaner(txt):\n",
    "    txt = \"\".join(a for a in txt if a not in string.punctuation).lower()\n",
    "    txt = txt.encode(\"utf8\").decode(\"ascii\", \"ignore\")\n",
    "    return txt"
   ]
  },
  {
   "cell_type": "code",
   "execution_count": 6,
   "metadata": {},
   "outputs": [
    {
     "data": {
      "text/plain": [
       "['act i',\n",
       " 'scene i london the palace',\n",
       " 'enter king henry lord john of lancaster the earl of westmoreland sir walter blunt and others',\n",
       " 'so shaken as we are so wan with care',\n",
       " 'find we a time for frighted peace to pant',\n",
       " 'and breathe shortwinded accents of new broils',\n",
       " 'to be commenced in strands afar remote',\n",
       " 'no more the thirsty entrance of this soil',\n",
       " 'shall daub her lips with her own childrens blood',\n",
       " 'nor more shall trenching war channel her fields']"
      ]
     },
     "execution_count": 6,
     "metadata": {},
     "output_type": "execute_result"
    }
   ],
   "source": [
    "text_corpus = [text_cleaner(x) for x in lines_num]\n",
    "text_corpus[:10]"
   ]
  },
  {
   "cell_type": "code",
   "execution_count": 7,
   "metadata": {},
   "outputs": [
    {
     "data": {
      "text/plain": [
       "[[523, 4],\n",
       " [142, 4],\n",
       " [142, 4, 339],\n",
       " [142, 4, 339, 1],\n",
       " [142, 4, 339, 1, 670],\n",
       " [53, 41],\n",
       " [53, 41, 84],\n",
       " [53, 41, 84, 29],\n",
       " [53, 41, 84, 29, 124],\n",
       " [53, 41, 84, 29, 124, 3],\n",
       " [53, 41, 84, 29, 124, 3, 340],\n",
       " [53, 41, 84, 29, 124, 3, 340, 1],\n",
       " [53, 41, 84, 29, 124, 3, 340, 1, 194],\n",
       " [53, 41, 84, 29, 124, 3, 340, 1, 194, 3],\n",
       " [53, 41, 84, 29, 124, 3, 340, 1, 194, 3, 354],\n",
       " [53, 41, 84, 29, 124, 3, 340, 1, 194, 3, 354, 91],\n",
       " [53, 41, 84, 29, 124, 3, 340, 1, 194, 3, 354, 91, 524],\n",
       " [53, 41, 84, 29, 124, 3, 340, 1, 194, 3, 354, 91, 524, 423],\n",
       " [53, 41, 84, 29, 124, 3, 340, 1, 194, 3, 354, 91, 524, 423, 2],\n",
       " [53, 41, 84, 29, 124, 3, 340, 1, 194, 3, 354, 91, 524, 423, 2, 375]]"
      ]
     },
     "execution_count": 7,
     "metadata": {},
     "output_type": "execute_result"
    }
   ],
   "source": [
    "#Tokenizer\n",
    "tokenizer = Tokenizer()\n",
    "\n",
    "def get_token_seq(corpus):\n",
    "    corpus = corpus[:7000]\n",
    "    tokenizer.fit_on_texts(corpus)\n",
    "    total_num_words = len(tokenizer.word_index) + 1\n",
    "    \n",
    "    #Converting the data to sequence of tokens\n",
    "    input_sequences = []\n",
    "    for line in corpus:\n",
    "        token_list = tokenizer.texts_to_sequences([line])[0]\n",
    "        \n",
    "        for i in range(1, len(token_list)):\n",
    "            n_gram_seq = token_list[:i+1]\n",
    "            input_sequences.append(n_gram_seq)\n",
    "            \n",
    "    return input_sequences, total_num_words\n",
    "\n",
    "inp_seqs, total_words = get_token_seq(text_corpus)\n",
    "inp_seqs[:20]"
   ]
  },
  {
   "cell_type": "code",
   "execution_count": 8,
   "metadata": {},
   "outputs": [
    {
     "data": {
      "text/plain": [
       "((45584, 33), (45584, 6543))"
      ]
     },
     "execution_count": 8,
     "metadata": {},
     "output_type": "execute_result"
    }
   ],
   "source": [
    "#Generating padded sequences \n",
    "def generate_padded_seqs(input_seqs):\n",
    "    max_seq_len = max([len(x) for x in input_seqs])\n",
    "    input_seqs = np.array(pad_sequences(input_seqs, maxlen=max_seq_len, padding='pre'))\n",
    "    \n",
    "    predictors, label = input_seqs[:, :-1], input_seqs[:, -1]\n",
    "    label = ku.to_categorical(label, num_classes=total_words)\n",
    "    return predictors, label, max_seq_len\n",
    "\n",
    "predictors, label, max_seq_len = generate_padded_seqs(inp_seqs)\n",
    "predictors.shape, label.shape"
   ]
  },
  {
   "cell_type": "markdown",
   "metadata": {},
   "source": [
    "# Model"
   ]
  },
  {
   "cell_type": "code",
   "execution_count": 10,
   "metadata": {},
   "outputs": [
    {
     "name": "stdout",
     "output_type": "stream",
     "text": [
      "Model: \"sequential_1\"\n",
      "_________________________________________________________________\n",
      "Layer (type)                 Output Shape              Param #   \n",
      "=================================================================\n",
      "embedding_1 (Embedding)      (None, 33, 10)            65430     \n",
      "_________________________________________________________________\n",
      "lstm_1 (LSTM)                (None, 512)               1071104   \n",
      "_________________________________________________________________\n",
      "dropout_1 (Dropout)          (None, 512)               0         \n",
      "_________________________________________________________________\n",
      "dense_1 (Dense)              (None, 6543)              3356559   \n",
      "=================================================================\n",
      "Total params: 4,493,093\n",
      "Trainable params: 4,493,093\n",
      "Non-trainable params: 0\n",
      "_________________________________________________________________\n"
     ]
    }
   ],
   "source": [
    "def create_model(max_seq_len, total_words):\n",
    "    input_len = max_seq_len - 1\n",
    "    model = Sequential()\n",
    "    \n",
    "    model.add(Embedding(total_words, 10, input_length=input_len))\n",
    "    model.add(LSTM(512))\n",
    "    model.add(Dropout(0.4))\n",
    "    \n",
    "    model.add(Dense(total_words, activation='softmax'))\n",
    "    \n",
    "    model.compile(loss='categorical_crossentropy', optimizer='adam')\n",
    "    \n",
    "    return model\n",
    "\n",
    "model = create_model(max_seq_len, total_words)\n",
    "model.summary()"
   ]
  },
  {
   "cell_type": "code",
   "execution_count": 11,
   "metadata": {},
   "outputs": [
    {
     "name": "stdout",
     "output_type": "stream",
     "text": [
      "Epoch 1/30\n",
      "45584/45584 [==============================] - 212s 5ms/step - loss: 6.8422\n",
      "Epoch 2/30\n",
      "45584/45584 [==============================] - 251s 5ms/step - loss: 6.5206\n",
      "Epoch 3/30\n",
      "45584/45584 [==============================] - 199s 4ms/step - loss: 6.3772\n",
      "Epoch 4/30\n",
      "45584/45584 [==============================] - 205s 4ms/step - loss: 6.2156\n",
      "Epoch 5/30\n",
      "45584/45584 [==============================] - 194s 4ms/step - loss: 6.0427\n",
      "Epoch 6/30\n",
      "45584/45584 [==============================] - 190s 4ms/step - loss: 5.8587\n",
      "Epoch 7/30\n",
      "45584/45584 [==============================] - 191s 4ms/step - loss: 5.6628\n",
      "Epoch 8/30\n",
      "45584/45584 [==============================] - 191s 4ms/step - loss: 5.4464\n",
      "Epoch 9/30\n",
      "45584/45584 [==============================] - 190s 4ms/step - loss: 5.1943\n",
      "Epoch 10/30\n",
      "45584/45584 [==============================] - 190s 4ms/step - loss: 4.9348\n",
      "Epoch 11/30\n",
      "45584/45584 [==============================] - 190s 4ms/step - loss: 4.6588\n",
      "Epoch 12/30\n",
      "45584/45584 [==============================] - 190s 4ms/step - loss: 4.3880\n",
      "Epoch 13/30\n",
      "45584/45584 [==============================] - 190s 4ms/step - loss: 4.1407\n",
      "Epoch 14/30\n",
      "45584/45584 [==============================] - 190s 4ms/step - loss: 3.9115\n",
      "Epoch 15/30\n",
      "45584/45584 [==============================] - 190s 4ms/step - loss: 3.6956\n",
      "Epoch 16/30\n",
      "45584/45584 [==============================] - 190s 4ms/step - loss: 3.5034\n",
      "Epoch 17/30\n",
      "45584/45584 [==============================] - 191s 4ms/step - loss: 3.3231\n",
      "Epoch 18/30\n",
      "45584/45584 [==============================] - 191s 4ms/step - loss: 3.1777\n",
      "Epoch 19/30\n",
      "45584/45584 [==============================] - 191s 4ms/step - loss: 3.0289\n",
      "Epoch 20/30\n",
      "45584/45584 [==============================] - 190s 4ms/step - loss: 2.9021\n",
      "Epoch 21/30\n",
      "45584/45584 [==============================] - 191s 4ms/step - loss: 2.7794\n",
      "Epoch 22/30\n",
      "45584/45584 [==============================] - 190s 4ms/step - loss: 2.6757\n",
      "Epoch 23/30\n",
      "45584/45584 [==============================] - 191s 4ms/step - loss: 2.5752\n",
      "Epoch 24/30\n",
      "45584/45584 [==============================] - 190s 4ms/step - loss: 2.4899\n",
      "Epoch 25/30\n",
      "45584/45584 [==============================] - 190s 4ms/step - loss: 2.4069\n",
      "Epoch 26/30\n",
      "45584/45584 [==============================] - 190s 4ms/step - loss: 2.3327\n",
      "Epoch 27/30\n",
      "45584/45584 [==============================] - 190s 4ms/step - loss: 2.2692\n",
      "Epoch 28/30\n",
      "45584/45584 [==============================] - 190s 4ms/step - loss: 2.2139\n",
      "Epoch 29/30\n",
      "45584/45584 [==============================] - 190s 4ms/step - loss: 2.1488\n",
      "Epoch 30/30\n",
      "45584/45584 [==============================] - 190s 4ms/step - loss: 2.1087\n"
     ]
    },
    {
     "data": {
      "text/plain": [
       "<keras.callbacks.callbacks.History at 0x7fe1a817ff40>"
      ]
     },
     "execution_count": 11,
     "metadata": {},
     "output_type": "execute_result"
    }
   ],
   "source": [
    "model.fit(predictors, label, epochs = 30)"
   ]
  },
  {
   "cell_type": "code",
   "execution_count": 13,
   "metadata": {},
   "outputs": [
    {
     "data": {
      "text/plain": [
       "[<matplotlib.lines.Line2D at 0x7fe19010bd90>]"
      ]
     },
     "execution_count": 13,
     "metadata": {},
     "output_type": "execute_result"
    },
    {
     "data": {
      "image/png": "[encoded data removed]",
      "text/plain": [
       "<Figure size 432x288 with 1 Axes>"
      ]
     },
     "metadata": {
      "needs_background": "light"
     },
     "output_type": "display_data"
    }
   ],
   "source": [
    "losses = pd.DataFrame(model.history.history)\n",
    "plt.plot(losses)"
   ]
  },
  {
   "cell_type": "code",
   "execution_count": 15,
   "metadata": {},
   "outputs": [],
   "source": [
    "def generate_new_text(seed_text, new_text, model, max_seq_len):\n",
    "    for _ in range(new_text):\n",
    "        token_list = tokenizer.texts_to_sequences([seed_text])[0]\n",
    "        token_list = pad_sequences([token_list], maxlen=max_seq_len-1, padding='pre')\n",
    "        predicted = model.predict_classes(token_list, verbose = 0)\n",
    "        \n",
    "        output_word = \"\"\n",
    "        \n",
    "        for word, index in tokenizer.word_index.items():\n",
    "            if index == predicted:\n",
    "                output_word = word\n",
    "                break\n",
    "                \n",
    "        seed_text += \" \" + output_word\n",
    "        \n",
    "        \n",
    "    return seed_text.title()"
   ]
  },
  {
   "cell_type": "code",
   "execution_count": 16,
   "metadata": {},
   "outputs": [
    {
     "name": "stdout",
     "output_type": "stream",
     "text": [
      "1.  Julius All The Rude Instruments Of War And Night All All It In The Field Of The Next And And And\n",
      "2.  King Is The Gates Of Thy Arms Burst Of The Law Of The Ladder Ill Go The French Fly And Talbot And\n",
      "3.  Thou Art No Friend In God Or Is What Is Not Go To His Duchess Fly And And The Earl Of\n",
      "4.  Death Of The Right Coming Of The Dauphin Then Come And A French March And And Away And Reignier Without La Pucelle\n",
      "5.  Romeo Of The Suns If Thou Didst Then Behold That Compound The Rest Of The Next Of The Mayor Of London\n"
     ]
    }
   ],
   "source": [
    "print(\"1. \", generate_new_text(\"Julius\", 20, model, max_seq_len))\n",
    "print(\"2. \", generate_new_text(\"King is\", 20, model, max_seq_len))\n",
    "print(\"3. \", generate_new_text(\"Thou\", 20, model, max_seq_len))\n",
    "print(\"4. \", generate_new_text(\"Death of\", 20, model, max_seq_len))\n",
    "print(\"5. \", generate_new_text(\"Romeo\", 20, model, max_seq_len))"
   ]
  },
  {
   "cell_type": "code",
   "execution_count": null,
   "metadata": {},
   "outputs": [],
   "source": []
  }
 ],
 "metadata": {
  "kernelspec": {
   "display_name": "Python 3",
   "language": "python",
   "name": "python3"
  },
  "language_info": {
   "codemirror_mode": {
    "name": "ipython",
    "version": 3
   },
   "file_extension": ".py",
   "mimetype": "text/x-python",
   "name": "python",
   "nbconvert_exporter": "python",
   "pygments_lexer": "ipython3",
   "version": "3.8.2"
  }
 },
 "nbformat": 4,
 "nbformat_minor": 4
}
